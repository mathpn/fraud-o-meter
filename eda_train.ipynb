{
 "cells": [
  {
   "attachments": {},
   "cell_type": "markdown",
   "metadata": {},
   "source": [
    "Let's perform EDA and basic training using data from the [IEEE-CIS Fraud Detection](https://www.kaggle.com/competitions/ieee-fraud-detection/) Kaggle competition."
   ]
  },
  {
   "cell_type": "code",
   "execution_count": null,
   "metadata": {},
   "outputs": [],
   "source": [
    "import numpy as np\n",
    "import pandas as pd\n",
    "import matplotlib.pyplot as plt\n",
    "import seaborn as sns\n",
    "from dataprep.eda import create_report"
   ]
  },
  {
   "cell_type": "code",
   "execution_count": null,
   "metadata": {},
   "outputs": [],
   "source": [
    "train_df = pd.read_csv(\"./data/train_transaction.csv\")\n",
    "test_df = pd.read_csv(\"./data/test_transaction.csv\")\n",
    "\n",
    "train_id = pd.read_csv(\"./data/train_identity.csv\")\n",
    "test_id = pd.read_csv(\"./data/test_identity.csv\")\n",
    "\n",
    "train_df = pd.merge(train_df, train_id, on=\"TransactionID\", how=\"left\")\n",
    "test_df = pd.merge(test_df, test_id, on=\"TransactionID\", how=\"left\")\n",
    "\n",
    "print(train_df.shape)\n",
    "train_df.head()"
   ]
  },
  {
   "cell_type": "code",
   "execution_count": null,
   "metadata": {},
   "outputs": [],
   "source": [
    "is_na = train_df.isna().sum() / len(train_df)\n",
    "\n",
    "print(f\"{(is_na > 0).sum()} out of {len(is_na)} columns have missing values\")\n",
    "plt.figure(figsize=(15, 4))\n",
    "ax = plt.bar(np.arange(len(is_na)), is_na.values)"
   ]
  },
  {
   "attachments": {},
   "cell_type": "markdown",
   "metadata": {},
   "source": [
    "There are variables with tons of missing data."
   ]
  }
 ],
 "metadata": {
  "kernelspec": {
   "display_name": "base",
   "language": "python",
   "name": "python3"
  },
  "language_info": {
   "codemirror_mode": {
    "name": "ipython",
    "version": 3
   },
   "file_extension": ".py",
   "mimetype": "text/x-python",
   "name": "python",
   "nbconvert_exporter": "python",
   "pygments_lexer": "ipython3",
   "version": "3.10.8"
  },
  "orig_nbformat": 4
 },
 "nbformat": 4,
 "nbformat_minor": 2
}
