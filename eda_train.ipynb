{
 "cells": [
  {
   "attachments": {},
   "cell_type": "markdown",
   "metadata": {},
   "source": [
    "Let's perform EDA and basic training using data from the [IEEE-CIS Fraud Detection](https://www.kaggle.com/competitions/ieee-fraud-detection/) Kaggle competition."
   ]
  },
  {
   "cell_type": "code",
   "execution_count": null,
   "metadata": {},
   "outputs": [],
   "source": [
    "import numpy as np\n",
    "import pandas as pd\n",
    "import matplotlib.pyplot as plt\n",
    "import seaborn as sns\n",
    "from dataprep.eda import create_report"
   ]
  },
  {
   "cell_type": "code",
   "execution_count": null,
   "metadata": {},
   "outputs": [],
   "source": [
    "train_df = pd.read_csv(\"./data/train_transaction.csv\")\n",
    "test_df = pd.read_csv(\"./data/test_transaction.csv\")\n",
    "\n",
    "train_id = pd.read_csv(\"./data/train_identity.csv\")\n",
    "test_id = pd.read_csv(\"./data/test_identity.csv\")\n",
    "\n",
    "train_df = pd.merge(train_df, train_id, on=\"TransactionID\", how=\"left\")\n",
    "test_df = pd.merge(test_df, test_id, on=\"TransactionID\", how=\"left\")\n",
    "\n",
    "print(train_df.shape)\n",
    "train_df.head()"
   ]
  },
  {
   "cell_type": "code",
   "execution_count": null,
   "metadata": {},
   "outputs": [],
   "source": [
    "is_na = train_df.isna().sum() / len(train_df)\n",
    "\n",
    "print(f\"{(is_na > 0).sum()} out of {len(is_na)} columns have missing values\")\n",
    "plt.figure(figsize=(15, 4))\n",
    "ax = plt.bar(np.arange(len(is_na)), is_na.values)"
   ]
  },
  {
   "attachments": {},
   "cell_type": "markdown",
   "metadata": {},
   "source": [
    "There are variables with tons of missing data. We have to acount for this when creating our models. Let's take a look at the target variable."
   ]
  },
  {
   "cell_type": "code",
   "execution_count": null,
   "metadata": {},
   "outputs": [],
   "source": [
    "ax = sns.countplot(data=train_df, x=\"isFraud\")\n",
    "\n",
    "frauds = sum(train_df[\"isFraud\"])\n",
    "print(f\"Train: there are {frauds} frauds, {frauds/len(train_df):.3f} of total\")"
   ]
  },
  {
   "cell_type": "code",
   "execution_count": null,
   "metadata": {},
   "outputs": [],
   "source": [
    "ax = sns.boxplot(data=train_df, x=\"isFraud\", y=\"TransactionAmt\")\n",
    "_ = ax.set(ylim=(0, 1000))"
   ]
  },
  {
   "cell_type": "code",
   "execution_count": null,
   "metadata": {},
   "outputs": [],
   "source": [
    "fraud_per_productcd = pd.DataFrame(\n",
    "    {\"fraud_proportion\": train_df.groupby(\"ProductCD\")[\"isFraud\"].mean()}\n",
    ")\n",
    "fraud_per_productcd = fraud_per_productcd.reset_index()\n",
    "fraud_per_productcd.columns = [\"ProductCD\", \"Fraud Proportion\"]\n",
    "\n",
    "ax = sns.barplot(fraud_per_productcd, x=\"ProductCD\", y=\"Fraud Proportion\")"
   ]
  },
  {
   "attachments": {},
   "cell_type": "markdown",
   "metadata": {},
   "source": [
    "According to information available [here](https://www.kaggle.com/c/ieee-fraud-detection/discussion/101203), card1-card6 are categorical variables. Let's convert all categorical variables to their appropriate dtype."
   ]
  },
  {
   "cell_type": "code",
   "execution_count": null,
   "metadata": {},
   "outputs": [],
   "source": [
    "categorical_cols = [\n",
    "    \"ProductCD\", \"card1\", \"card2\", \"card3\", \"card4\", \"card5\", \"card6\",\n",
    "    \"addr1\", \"addr2\", \"P_emaildomain\", \"R_emaildomain\",\n",
    "    \"M1\", \"M2\", \"M3\", \"M4\", \"M5\", \"M6\", \"M7\", \"M8\", \"M9\",\n",
    "    \"DeviceType\", \"DeviceInfo\",\n",
    "    \"id_12\", \"id_13\", \"id_14\", \"id_15\", \"id_16\", \"id_17\", \"id_18\", \"id_19\",\n",
    "    \"id_20\", \"id_21\", \"id_22\", \"id_23\", \"id_24\", \"id_25\", \"id_26\", \"id_27\",\n",
    "    \"id_28\", \"id_29\", \"id_30\", \"id_31\", \"id_32\", \"id_33\", \"id_34\", \"id_35\",\n",
    "    \"id_36\", \"id_37\", \"id_38\",\n",
    "]\n",
    "\n",
    "for col in categorical_cols:\n",
    "    train_df[col] = train_df[col].astype(\"category\")\n",
    "    test_df[col] = train_df[col].astype(\"category\")"
   ]
  },
  {
   "cell_type": "code",
   "execution_count": null,
   "metadata": {},
   "outputs": [],
   "source": [
    "VARIABLE = \"card4\"\n",
    "\n",
    "fraud_per_card = pd.DataFrame(\n",
    "    {\"fraud_proportion\": train_df.groupby(VARIABLE)[\"isFraud\"].mean()}\n",
    ")\n",
    "fraud_per_card = fraud_per_card.reset_index()\n",
    "fraud_per_card.columns = [VARIABLE, \"Fraud Proportion\"]\n",
    "\n",
    "ax = sns.barplot(fraud_per_card, x=VARIABLE, y=\"Fraud Proportion\")"
   ]
  },
  {
   "cell_type": "code",
   "execution_count": null,
   "metadata": {},
   "outputs": [],
   "source": [
    "VARIABLE = \"card6\"\n",
    "\n",
    "fraud_per_card = pd.DataFrame(\n",
    "    {\"fraud_proportion\": train_df.groupby(VARIABLE)[\"isFraud\"].mean()}\n",
    ")\n",
    "fraud_per_card = fraud_per_card.reset_index()\n",
    "fraud_per_card.columns = [VARIABLE, \"Fraud Proportion\"]\n",
    "\n",
    "ax = sns.barplot(fraud_per_card, x=VARIABLE, y=\"Fraud Proportion\")"
   ]
  },
  {
   "cell_type": "code",
   "execution_count": null,
   "metadata": {},
   "outputs": [],
   "source": [
    "def plot_top_fraud_proportion(variable: str):\n",
    "    fraud_per_card = train_df.groupby(variable)[\"isFraud\"].agg([\"mean\", \"count\"])\n",
    "    fraud_per_card = fraud_per_card.reset_index()\n",
    "    fraud_per_card.columns = [variable, \"Fraud Proportion\", \"Count\"]\n",
    "    fraud_per_card = fraud_per_card.nlargest(20, \"Count\")\n",
    "    fraud_per_card[variable] = fraud_per_card[variable].cat.remove_unused_categories()\n",
    "\n",
    "    plt.figure(figsize=(12, 3))\n",
    "    ax = sns.barplot(data=fraud_per_card, x=variable, y=\"Fraud Proportion\", order=fraud_per_card[variable])\n",
    "    ax.tick_params(axis=\"x\", rotation=90)\n",
    "\n",
    "plot_top_fraud_proportion(\"card3\")"
   ]
  },
  {
   "cell_type": "code",
   "execution_count": null,
   "metadata": {},
   "outputs": [],
   "source": [
    "plot_top_fraud_proportion(\"card5\")"
   ]
  },
  {
   "cell_type": "code",
   "execution_count": null,
   "metadata": {},
   "outputs": [],
   "source": [
    "plot_top_fraud_proportion(\"P_emaildomain\")"
   ]
  },
  {
   "cell_type": "code",
   "execution_count": null,
   "metadata": {},
   "outputs": [],
   "source": [
    "plot_top_fraud_proportion(\"R_emaildomain\")"
   ]
  },
  {
   "cell_type": "code",
   "execution_count": null,
   "metadata": {},
   "outputs": [],
   "source": [
    "from sklearn.model_selection import train_test_split\n",
    "from sklearn.preprocessing import LabelEncoder\n",
    "\n",
    "y = train_df[\"isFraud\"]\n",
    "X = train_df.drop(\"isFraud\", axis=1)\n",
    "for col in categorical_cols:\n",
    "    encoder = LabelEncoder()\n",
    "    X[col] = encoder.fit_transform(X[col])\n",
    "\n",
    "X_train, X_val, y_train, y_val = train_test_split(X, y, train_size=0.9)"
   ]
  },
  {
   "cell_type": "code",
   "execution_count": null,
   "metadata": {},
   "outputs": [],
   "source": [
    "from sklearn.metrics import make_scorer, roc_auc_score\n",
    "import lightgbm as lgbm\n",
    "\n",
    "lgbm_params = {\n",
    "    \"n_estimators\": 250,\n",
    "    \"random_state\": 33,\n",
    "    \"verbose\": 1,\n",
    "}\n",
    "\n",
    "model = lgbm.LGBMClassifier(**lgbm_params)\n",
    "\n",
    "model.fit(X_train, y_train)\n",
    "\n",
    "score = make_scorer(roc_auc_score, needs_proba=True)(model, X_val, y_val)\n",
    "print(f\"ROC AUC score: {score:.4f}\")"
   ]
  }
 ],
 "metadata": {
  "kernelspec": {
   "display_name": "base",
   "language": "python",
   "name": "python3"
  },
  "language_info": {
   "codemirror_mode": {
    "name": "ipython",
    "version": 3
   },
   "file_extension": ".py",
   "mimetype": "text/x-python",
   "name": "python",
   "nbconvert_exporter": "python",
   "pygments_lexer": "ipython3",
   "version": "3.10.8"
  },
  "orig_nbformat": 4
 },
 "nbformat": 4,
 "nbformat_minor": 2
}
